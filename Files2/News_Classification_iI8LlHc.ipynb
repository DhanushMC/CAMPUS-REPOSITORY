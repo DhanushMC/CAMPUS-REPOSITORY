{
  "cells": [
    {
      "cell_type": "code",
      "execution_count": 1,
      "metadata": {
        "colab": {
          "base_uri": "https://localhost:8080/"
        },
        "id": "SqUMeRXWr--U",
        "outputId": "278c0d8a-cbbc-4c61-d857-062bf325e324"
      },
      "outputs": [
        {
          "ename": "ModuleNotFoundError",
          "evalue": "No module named 'cvxpy'",
          "output_type": "error",
          "traceback": [
            "\u001b[1;31m---------------------------------------------------------------------------\u001b[0m",
            "\u001b[1;31mModuleNotFoundError\u001b[0m                       Traceback (most recent call last)",
            "Cell \u001b[1;32mIn[1], line 7\u001b[0m\n\u001b[0;32m      5\u001b[0m \u001b[38;5;28;01mfrom\u001b[39;00m \u001b[38;5;21;01msklearn\u001b[39;00m\u001b[38;5;21;01m.\u001b[39;00m\u001b[38;5;21;01mpreprocessing\u001b[39;00m \u001b[38;5;28;01mimport\u001b[39;00m StandardScaler\n\u001b[0;32m      6\u001b[0m \u001b[38;5;28;01mfrom\u001b[39;00m \u001b[38;5;21;01msklearn\u001b[39;00m \u001b[38;5;28;01mimport\u001b[39;00m metrics\n\u001b[1;32m----> 7\u001b[0m \u001b[38;5;28;01mimport\u001b[39;00m \u001b[38;5;21;01mcvxpy\u001b[39;00m \u001b[38;5;28;01mas\u001b[39;00m \u001b[38;5;21;01mcp\u001b[39;00m\n\u001b[0;32m      9\u001b[0m \u001b[38;5;66;03m# Load a smaller subset of the 20 Newsgroups dataset\u001b[39;00m\n\u001b[0;32m     10\u001b[0m categories \u001b[38;5;241m=\u001b[39m [\u001b[38;5;124m'\u001b[39m\u001b[38;5;124mcomp.graphics\u001b[39m\u001b[38;5;124m'\u001b[39m, \u001b[38;5;124m'\u001b[39m\u001b[38;5;124mtalk.politics.misc\u001b[39m\u001b[38;5;124m'\u001b[39m]\n",
            "\u001b[1;31mModuleNotFoundError\u001b[0m: No module named 'cvxpy'"
          ]
        }
      ],
      "source": [
        "import numpy as np\n",
        "from sklearn.datasets import fetch_20newsgroups\n",
        "from sklearn.feature_extraction.text import TfidfVectorizer\n",
        "from sklearn.model_selection import train_test_split\n",
        "from sklearn.preprocessing import StandardScaler\n",
        "from sklearn import metrics\n",
        "import cvxpy as cp\n",
        "\n",
        "# Load a smaller subset of the 20 Newsgroups dataset\n",
        "categories = ['comp.graphics', 'talk.politics.misc']\n",
        "newsgroups = fetch_20newsgroups(subset='all', categories=categories, remove=('headers', 'footers', 'quotes'))\n",
        "\n",
        "# Print some text samples\n",
        "print(\"Text samples from the dataset subset:\")\n",
        "for i in range(2):\n",
        "    print(f\"\\nCategory: {newsgroups.target_names[newsgroups.target[i]]}\")\n",
        "    print(newsgroups.data[i])\n",
        "\n",
        "# Split the dataset into training and testing sets\n",
        "X_train, X_test, y_train, y_test = train_test_split(newsgroups.data, newsgroups.target, test_size=0.25, random_state=42)\n",
        "\n",
        "# Convert text data to TF-IDF features\n",
        "vectorizer = TfidfVectorizer(max_features=5000, stop_words='english')\n",
        "X_train_tfidf = vectorizer.fit_transform(X_train)\n",
        "X_test_tfidf = vectorizer.transform(X_test)\n",
        "\n",
        "# Standardize features\n",
        "scaler = StandardScaler()\n",
        "X_train_scaled = scaler.fit_transform(X_train_tfidf.toarray())\n",
        "X_test_scaled = scaler.transform(X_test_tfidf.toarray())\n",
        "\n",
        "# Proximal SVM for text classification using cvxpy\n",
        "n, d = X_train_scaled.shape\n",
        "\n",
        "# Define variables\n",
        "w = cp.Variable(d)\n",
        "b = cp.Variable()\n",
        "C = 1.0  # Regularization parameter\n",
        "\n",
        "# Define the proximal SVM problem using cvxpy\n",
        "y_binary = 2 * y_train - 1  # Convert labels to -1 and 1\n",
        "loss = cp.sum(cp.pos(1 - cp.multiply(y_binary, X_train_scaled @ w - b))) + 0.5 * cp.norm(w, 2) ** 2\n",
        "regularization = C * cp.norm(w, 1)  # L1 regularization\n",
        "problem = cp.Problem(cp.Minimize(loss + regularization))\n",
        "\n",
        "# Solve the problem\n",
        "problem.solve()\n",
        "\n",
        "# Predict on the test set\n",
        "y_pred = np.sign(X_test_scaled @ w.value - b.value)\n",
        "\n",
        "# Evaluate the performance\n",
        "accuracy = metrics.accuracy_score(y_test, y_pred)\n",
        "print(f\"\\nAccuracy: {accuracy:.2f}\")\n"
      ]
    }
  ],
  "metadata": {
    "colab": {
      "provenance": []
    },
    "kernelspec": {
      "display_name": "Python 3",
      "name": "python3"
    },
    "language_info": {
      "codemirror_mode": {
        "name": "ipython",
        "version": 3
      },
      "file_extension": ".py",
      "mimetype": "text/x-python",
      "name": "python",
      "nbconvert_exporter": "python",
      "pygments_lexer": "ipython3",
      "version": "3.11.4"
    }
  },
  "nbformat": 4,
  "nbformat_minor": 0
}
